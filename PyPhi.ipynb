{
  "nbformat": 4,
  "nbformat_minor": 0,
  "metadata": {
    "colab": {
      "name": "PyPhi.ipynb",
      "provenance": [],
      "collapsed_sections": [],
      "authorship_tag": "ABX9TyMDEMOx2MQcd5eJt2iUFaMn",
      "include_colab_link": true
    },
    "kernelspec": {
      "name": "python3",
      "display_name": "Python 3"
    },
    "language_info": {
      "name": "python"
    }
  },
  "cells": [
    {
      "cell_type": "markdown",
      "metadata": {
        "id": "view-in-github",
        "colab_type": "text"
      },
      "source": [
        "<a href=\"https://colab.research.google.com/github/AstonishingHypothesis/PyPhi-Notebook/blob/main/PyPhi.ipynb\" target=\"_parent\"><img src=\"https://colab.research.google.com/assets/colab-badge.svg\" alt=\"Open In Colab\"/></a>"
      ]
    },
    {
      "cell_type": "markdown",
      "metadata": {
        "id": "4hcfZgukfjuS"
      },
      "source": [
        "PyPhi is a Python library for computing integrated information (𝚽), and the associated quantities and objects.\n",
        "\n",
        "If you use this code, please cite the paper:\n",
        "\n",
        "Mayner WGP, Marshall W, Albantakis L, Findlay G, Marchman R, Tononi G. (2018) PyPhi: A toolbox for integrated information theory. PLOS Computational Biology 14(7): e1006343. https://doi.org/10.1371/journal.pcbi.1006343\n",
        "\n",
        "An illustrated tutorial on how Φ is calculated is available as a supplement to the paper.\n",
        "\n",
        "\n",
        "Installation\n",
        "\n",
        "Set up a Python 3 virtual environment and install with"
      ]
    },
    {
      "cell_type": "code",
      "metadata": {
        "id": "lcf8rHDvfwpx"
      },
      "source": [
        "pip install pyphi"
      ],
      "execution_count": null,
      "outputs": []
    },
    {
      "cell_type": "markdown",
      "metadata": {
        "id": "ek4Jfb-Pf0A8"
      },
      "source": [
        "To install the latest development version, which is a work in progress and may have bugs, run:"
      ]
    },
    {
      "cell_type": "code",
      "metadata": {
        "id": "LDk_HQUhf3Ng"
      },
      "source": [
        "pip install \"git+https://github.com/wmayner/pyphi@develop#egg=pyphi\""
      ],
      "execution_count": null,
      "outputs": []
    }
  ]
}