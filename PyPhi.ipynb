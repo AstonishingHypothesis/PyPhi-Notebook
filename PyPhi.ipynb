{
  "nbformat": 4,
  "nbformat_minor": 0,
  "metadata": {
    "colab": {
      "name": "PyPhi.ipynb",
      "provenance": [],
      "collapsed_sections": [],
      "authorship_tag": "ABX9TyMoW2Mg1b1hYZyRBbP1MQjY",
      "include_colab_link": true
    },
    "kernelspec": {
      "name": "python3",
      "display_name": "Python 3"
    },
    "language_info": {
      "name": "python"
    }
  },
  "cells": [
    {
      "cell_type": "markdown",
      "metadata": {
        "id": "view-in-github",
        "colab_type": "text"
      },
      "source": [
        "<a href=\"https://colab.research.google.com/github/AstonishingHypothesis/PyPhi-Notebook/blob/main/PyPhi.ipynb\" target=\"_parent\"><img src=\"https://colab.research.google.com/assets/colab-badge.svg\" alt=\"Open In Colab\"/></a>"
      ]
    },
    {
      "cell_type": "markdown",
      "metadata": {
        "id": "4hcfZgukfjuS"
      },
      "source": [
        "PyPhi is a Python library for computing integrated information (𝚽), and the associated quantities and objects.\n",
        "\n",
        "**If you use this code, please cite the paper:**\n",
        "\n",
        "Mayner WGP, Marshall W, Albantakis L, Findlay G, Marchman R, Tononi G. (2018) PyPhi: A toolbox for integrated information theory. PLOS Computational Biology 14(7): e1006343. https://doi.org/10.1371/journal.pcbi.1006343\n",
        "\n",
        "An illustrated tutorial on how Φ is calculated is available as a supplement to the paper.\n",
        "\n",
        "\n",
        "# **Installation**\n",
        "\n",
        "Set up a Python 3 virtual environment and install with"
      ]
    },
    {
      "cell_type": "code",
      "metadata": {
        "id": "lcf8rHDvfwpx"
      },
      "source": [
        "pip install pyphi"
      ],
      "execution_count": null,
      "outputs": []
    },
    {
      "cell_type": "markdown",
      "metadata": {
        "id": "ek4Jfb-Pf0A8"
      },
      "source": [
        "To install the latest development version, which is a work in progress and may have bugs, run:"
      ]
    },
    {
      "cell_type": "code",
      "metadata": {
        "id": "LDk_HQUhf3Ng"
      },
      "source": [
        "pip install \"git+https://github.com/wmayner/pyphi@develop#egg=pyphi\""
      ],
      "execution_count": null,
      "outputs": []
    },
    {
      "cell_type": "markdown",
      "metadata": {
        "id": "uJOKAqFbvutX"
      },
      "source": [
        "Note: this software is only supported on Linux and macOS. However, if you use Windows, you can run it by using the Anaconda Python distribution and installing PyPhi with conda:"
      ]
    },
    {
      "cell_type": "code",
      "metadata": {
        "id": "ywfXotBfvwqA"
      },
      "source": [
        "conda install -c wmayner pyphi"
      ],
      "execution_count": null,
      "outputs": []
    },
    {
      "cell_type": "markdown",
      "metadata": {
        "id": "qVya7wnvv494"
      },
      "source": [
        "# **User group**\n",
        "\n",
        "For discussion about the software or integrated information theory in general, you can join the pyphi-users group.\n",
        "\n",
        "For technical issues with PyPhi or feature requests, please use the issues page.\n",
        "\n",
        "# **Contributing**\n",
        "\n",
        "To help develop PyPhi, fork the project on GitHub and install the requirements with"
      ]
    },
    {
      "cell_type": "code",
      "metadata": {
        "id": "GM41Wutqv_Y5"
      },
      "source": [
        "pip install -r requirements.txt"
      ],
      "execution_count": null,
      "outputs": []
    },
    {
      "cell_type": "markdown",
      "metadata": {
        "id": "fs5UTbnkwEPi"
      },
      "source": [
        "The Makefile defines some tasks to help with development:"
      ]
    },
    {
      "cell_type": "code",
      "metadata": {
        "id": "DYhYxujqwE-r"
      },
      "source": [
        "make test"
      ],
      "execution_count": null,
      "outputs": []
    },
    {
      "cell_type": "markdown",
      "metadata": {
        "id": "Lmsb-vhWwJ6K"
      },
      "source": [
        "runs the unit tests every time you change the source code."
      ]
    },
    {
      "cell_type": "code",
      "metadata": {
        "id": "fjWa1xA7wMaO"
      },
      "source": [
        "make benchmark"
      ],
      "execution_count": null,
      "outputs": []
    },
    {
      "cell_type": "markdown",
      "metadata": {
        "id": "7smmEgm2wPZI"
      },
      "source": [
        "runs performance benchmarks."
      ]
    },
    {
      "cell_type": "code",
      "metadata": {
        "id": "tvfeNrx3wRoX"
      },
      "source": [
        "make docs"
      ],
      "execution_count": null,
      "outputs": []
    },
    {
      "cell_type": "markdown",
      "metadata": {
        "id": "wHLKq1_WwVJr"
      },
      "source": [
        "builds the HTML documentation.\n",
        "\n",
        "**Developing on Linux** \n",
        "\n",
        "Make sure you install the C headers for Python 3, SciPy, and NumPy before installing the requirements:"
      ]
    },
    {
      "cell_type": "code",
      "metadata": {
        "id": "WW11uVF_wbF-"
      },
      "source": [
        "sudo apt-get install python3-dev python3-scipy python3-numpy"
      ],
      "execution_count": null,
      "outputs": []
    },
    {
      "cell_type": "markdown",
      "metadata": {
        "id": "4FNHmdMpwed0"
      },
      "source": [
        "**Developing on Windows**\n",
        "\n",
        "If you're just looking for an editable install, pip may work better than the conda develop utility included in the conda-build package. When using pip on Windows, the build of pyemd may fail. The simplest solution to this is to obtain pyemd through conda."
      ]
    },
    {
      "cell_type": "code",
      "metadata": {
        "id": "cZjhpmFUwntd"
      },
      "source": [
        "conda create -n pyphi_dev\n",
        "conda activate pyphi_dev\n",
        "conda install -c wmayner pyemd\n",
        "cd path/to/local/editable/copy/of/pyphi\n",
        "pip install -e ."
      ],
      "execution_count": null,
      "outputs": []
    },
    {
      "cell_type": "markdown",
      "metadata": {
        "id": "1JIotnwOwqvJ"
      },
      "source": [
        "Unfortunately, pip isn't great at managing the DLLs that some packages (especially scipy) rely on. If you have missing DLL errors, try reinstalling the offending package (here, scipy) with conda."
      ]
    },
    {
      "cell_type": "code",
      "metadata": {
        "id": "fOYSlrp1wtEK"
      },
      "source": [
        "conda activate pyphi_dev\n",
        "pip uninstall scipy\n",
        "conda install scipy"
      ],
      "execution_count": null,
      "outputs": []
    },
    {
      "cell_type": "markdown",
      "metadata": {
        "id": "IuHaP8mHw1Co"
      },
      "source": [
        "# **Credit**\n",
        "\n",
        "**Please cite these papers if you use this code:**\n",
        "\n",
        "Mayner WGP, Marshall W, Albantakis L, Findlay G, Marchman R, Tononi G. (2018) PyPhi: A toolbox for integrated information theory. PLOS Computational Biology 14(7): e1006343. https://doi.org/10.1371/journal.pcbi.1006343"
      ]
    },
    {
      "cell_type": "code",
      "metadata": {
        "id": "7FpJuqEQxHtA"
      },
      "source": [
        "@article{mayner2018pyphi,\n",
        "  title={PyPhi: A toolbox for integrated information theory},\n",
        "  author={Mayner, William GP and Marshall, William and Albantakis, Larissa and Findlay, Graham and Marchman, Robert and Tononi, Giulio},\n",
        "  journal={PLoS Computational Biology},\n",
        "  volume={14},\n",
        "  number={7},\n",
        "  pages={e1006343},\n",
        "  year={2018},\n",
        "  publisher={Public Library of Science},\n",
        "  doi={10.1371/journal.pcbi.1006343},\n",
        "  url={https://doi.org/10.1371/journal.pcbi.1006343}\n",
        "}"
      ],
      "execution_count": null,
      "outputs": []
    },
    {
      "cell_type": "markdown",
      "metadata": {
        "id": "vDaf-vrVxLXD"
      },
      "source": [
        "\n",
        "Albantakis L, Oizumi M, Tononi G (2014). From the Phenomenology to the Mechanisms of Consciousness: Integrated Information Theory 3.0. PLoS Comput Biol 10(5): e1003588. doi: 10.1371/journal.pcbi.1003588."
      ]
    },
    {
      "cell_type": "code",
      "metadata": {
        "id": "S8V71MoKxOnG"
      },
      "source": [
        "@article{iit3,\n",
        "    title={From the Phenomenology to the Mechanisms of Consciousness:\n",
        "    author={Albantakis, Larissa AND Oizumi, Masafumi AND Tononi, Giulio},\n",
        "    Integrated Information Theory 3.0},\n",
        "    journal={PLoS Comput Biol},\n",
        "    publisher={Public Library of Science},\n",
        "    year={2014},\n",
        "    month={05},\n",
        "    volume={10},\n",
        "    pages={e1003588},\n",
        "    number={5},\n",
        "    doi={10.1371/journal.pcbi.1003588},\n",
        "    url={http://dx.doi.org/10.1371%2Fjournal.pcbi.1003588}\n",
        "}"
      ],
      "execution_count": null,
      "outputs": []
    },
    {
      "cell_type": "markdown",
      "metadata": {
        "id": "blfEhaIuxP0O"
      },
      "source": [
        "This project is inspired by a previous project written in Matlab by L. Albantakis, M. Oizumi, A. Hashmi, A. Nere, U. Olcese, P. Rana, and B. Shababo.\n",
        "\n",
        "Correspondence regarding this code and the PyPhi paper should be directed to Will Mayner, at mayner@wisc.edu. Correspondence regarding the Matlab code and the IIT 3.0 paper should be directed to Larissa Albantakis, PhD, at albantakis@wisc.edu."
      ]
    }
  ]
}