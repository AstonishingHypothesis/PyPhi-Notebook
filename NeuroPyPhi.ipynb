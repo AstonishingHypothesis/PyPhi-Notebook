{
  "nbformat": 4,
  "nbformat_minor": 0,
  "metadata": {
    "colab": {
      "name": "NeuroPyPhi.ipynb",
      "provenance": [],
      "collapsed_sections": [],
      "authorship_tag": "ABX9TyP/4hruxftQXdxoNAD6FN8p",
      "include_colab_link": true
    },
    "kernelspec": {
      "name": "python3",
      "display_name": "Python 3"
    },
    "language_info": {
      "name": "python"
    }
  },
  "cells": [
    {
      "cell_type": "markdown",
      "metadata": {
        "id": "view-in-github",
        "colab_type": "text"
      },
      "source": [
        "<a href=\"https://colab.research.google.com/github/AstonishingHypothesis/PyPhi-Notebook/blob/main/NeuroPyPhi.ipynb\" target=\"_parent\"><img src=\"https://colab.research.google.com/assets/colab-badge.svg\" alt=\"Open In Colab\"/></a>"
      ]
    },
    {
      "cell_type": "markdown",
      "metadata": {
        "id": "rjAyTN4BVypL"
      },
      "source": [
        "# **NeuroPyPhi Notebook** \n",
        "\n",
        "*The below lets you import a MATLAB-generated TPM for 3 nodes (e.g., electrodes or voxels) and compute Phi.*\n",
        "\n",
        "\n",
        "\n",
        "First, let's set up the environment by installing PyPhi. \n",
        "\n",
        "Just click on the below and wait for a few second until you see \"`Successfully installed pyphi-1.2.0 redis-3.5.3`\":"
      ]
    },
    {
      "cell_type": "code",
      "metadata": {
        "id": "UnOQIMW6WBvM"
      },
      "source": [
        "pip install pyphi"
      ],
      "execution_count": null,
      "outputs": []
    },
    {
      "cell_type": "markdown",
      "metadata": {
        "id": "TT6LdjSvW18Q"
      },
      "source": [
        "Now we need to get PyPhi get started:"
      ]
    },
    {
      "cell_type": "code",
      "metadata": {
        "id": "-9OHInjJW-D-"
      },
      "source": [
        "import pyphi\n"
      ],
      "execution_count": null,
      "outputs": []
    },
    {
      "cell_type": "markdown",
      "metadata": {
        "id": "QE2dJxhRXE1D"
      },
      "source": [
        "Also install [`numpy`](https://numpy.org/):"
      ]
    },
    {
      "cell_type": "code",
      "metadata": {
        "id": "zpa4NdNTXHYy"
      },
      "source": [
        "import numpy as np"
      ],
      "execution_count": 3,
      "outputs": []
    },
    {
      "cell_type": "markdown",
      "metadata": {
        "id": "380bnH37Wdhu"
      },
      "source": [
        "Next, we need a Transition Probability Matrix (TPM)."
      ]
    },
    {
      "cell_type": "markdown",
      "metadata": {
        "id": "zYJVDpZ9ed8h"
      },
      "source": [
        "Use MATLAB to create a state-by-state matrix.\n",
        "\n",
        "Save that TPM as a `tpm.mat` file in MATLAB. Make sure you know where it is located:\n",
        "\n",
        "*save('tpm.mat','tpm');*\n"
      ]
    },
    {
      "cell_type": "markdown",
      "metadata": {
        "id": "byO2VckXh8gb"
      },
      "source": [
        "Then upload the `tpm.mat` file by clicking on the below.\n",
        "\n",
        "*If you receive an error, try with a different browser or extensions disabled.*"
      ]
    },
    {
      "cell_type": "code",
      "metadata": {
        "id": "ZDSAuxSaewVv"
      },
      "source": [
        "from google.colab import files\n",
        "\n",
        "tpm = files.upload()"
      ],
      "execution_count": null,
      "outputs": []
    },
    {
      "cell_type": "markdown",
      "metadata": {
        "id": "c8eJSOMbhkN0"
      },
      "source": [
        "Next, we need to convert from MATLAB format to `numpy`. \n",
        "\n",
        "Matlab writes matrices in Fortran order, so this transposes into `numpy` order"
      ]
    },
    {
      "cell_type": "code",
      "metadata": {
        "id": "IxVCaUWXiS8w"
      },
      "source": [
        "import h5py\n",
        "f = h5py.File('tpm.mat')\n",
        "for k, v in f.items():\n",
        "    npv = np.array(v)\n",
        "    sbstpm = npv.swapaxes(-1, -2);"
      ],
      "execution_count": 36,
      "outputs": []
    },
    {
      "cell_type": "markdown",
      "metadata": {
        "id": "_DpT_mg7r3KO"
      },
      "source": [
        "You can double check that the TPM matches what you have in MATLAB by clicking the below."
      ]
    },
    {
      "cell_type": "code",
      "metadata": {
        "id": "VnWp9GUWl0Qm"
      },
      "source": [
        "print(sbstpm)"
      ],
      "execution_count": null,
      "outputs": []
    },
    {
      "cell_type": "markdown",
      "metadata": {
        "id": "eA6uKXrUnNjP"
      },
      "source": [
        "Now we have to [convert the TPM to state-by-node](https://pyphi.readthedocs.io/en/latest/api/convert.html#module-pyphi.convert) (the PyPhi standard):\n"
      ]
    },
    {
      "cell_type": "code",
      "metadata": {
        "id": "AeFhL2YpnYxc"
      },
      "source": [
        "tpm = pyphi.convert.sbs2sbn(sbstpm)"
      ],
      "execution_count": 38,
      "outputs": []
    },
    {
      "cell_type": "markdown",
      "metadata": {
        "id": "IbRpmskUXxbC"
      },
      "source": [
        "Now we construct the network"
      ]
    },
    {
      "cell_type": "code",
      "metadata": {
        "id": "byh2qzUBX1z5"
      },
      "source": [
        "network = pyphi.Network(tpm)"
      ],
      "execution_count": 39,
      "outputs": []
    },
    {
      "cell_type": "markdown",
      "metadata": {
        "id": "bWQggAgCYBZu"
      },
      "source": [
        "The next step is to define a subsystem for which we want to evaluate Φ."
      ]
    },
    {
      "cell_type": "code",
      "metadata": {
        "id": "nhlMfZrgYFUF"
      },
      "source": [
        "state = (1, 0, 0)"
      ],
      "execution_count": 40,
      "outputs": []
    },
    {
      "cell_type": "markdown",
      "metadata": {
        "id": "ME_27l9gYZtp"
      },
      "source": [
        "Our subsystem is the entire network:"
      ]
    },
    {
      "cell_type": "code",
      "metadata": {
        "id": "fVIWvmZtYakL"
      },
      "source": [
        "subsystem = pyphi.Subsystem(network, state)"
      ],
      "execution_count": 41,
      "outputs": []
    },
    {
      "cell_type": "markdown",
      "metadata": {
        "id": "QJdf-eV5YzhJ"
      },
      "source": [
        "Compute Φ:"
      ]
    },
    {
      "cell_type": "code",
      "metadata": {
        "id": "YtGGGQGVY3fw"
      },
      "source": [
        ">>> pyphi.compute.phi(subsystem)\n"
      ],
      "execution_count": null,
      "outputs": []
    }
  ]
}